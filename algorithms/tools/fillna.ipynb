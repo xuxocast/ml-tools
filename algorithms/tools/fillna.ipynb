{
 "cells": [
  {
   "cell_type": "code",
   "execution_count": 11,
   "id": "b92ecb04",
   "metadata": {},
   "outputs": [
    {
     "data": {
      "text/html": [
       "<div>\n",
       "<style scoped>\n",
       "    .dataframe tbody tr th:only-of-type {\n",
       "        vertical-align: middle;\n",
       "    }\n",
       "\n",
       "    .dataframe tbody tr th {\n",
       "        vertical-align: top;\n",
       "    }\n",
       "\n",
       "    .dataframe thead th {\n",
       "        text-align: right;\n",
       "    }\n",
       "</style>\n",
       "<table border=\"1\" class=\"dataframe\">\n",
       "  <thead>\n",
       "    <tr style=\"text-align: right;\">\n",
       "      <th></th>\n",
       "      <th>Year</th>\n",
       "      <th>LotArea</th>\n",
       "      <th>nFlor</th>\n",
       "      <th>BedAbv</th>\n",
       "      <th>county</th>\n",
       "      <th>Price</th>\n",
       "    </tr>\n",
       "  </thead>\n",
       "  <tbody>\n",
       "    <tr>\n",
       "      <th>0</th>\n",
       "      <td>2008</td>\n",
       "      <td>1405</td>\n",
       "      <td>10</td>\n",
       "      <td>51.211164</td>\n",
       "      <td>21</td>\n",
       "      <td>11818</td>\n",
       "    </tr>\n",
       "    <tr>\n",
       "      <th>1</th>\n",
       "      <td>2015</td>\n",
       "      <td>114</td>\n",
       "      <td>3</td>\n",
       "      <td>52.584165</td>\n",
       "      <td>1</td>\n",
       "      <td>339</td>\n",
       "    </tr>\n",
       "    <tr>\n",
       "      <th>2</th>\n",
       "      <td>2002</td>\n",
       "      <td>1230</td>\n",
       "      <td>9</td>\n",
       "      <td>50.226015</td>\n",
       "      <td>40</td>\n",
       "      <td>9291</td>\n",
       "    </tr>\n",
       "    <tr>\n",
       "      <th>3</th>\n",
       "      <td>2006</td>\n",
       "      <td>1934</td>\n",
       "      <td>7</td>\n",
       "      <td>54.193594</td>\n",
       "      <td>1</td>\n",
       "      <td>11394</td>\n",
       "    </tr>\n",
       "    <tr>\n",
       "      <th>4</th>\n",
       "      <td>2012</td>\n",
       "      <td>1125</td>\n",
       "      <td>3</td>\n",
       "      <td>47.380961</td>\n",
       "      <td>4</td>\n",
       "      <td>2878</td>\n",
       "    </tr>\n",
       "    <tr>\n",
       "      <th>...</th>\n",
       "      <td>...</td>\n",
       "      <td>...</td>\n",
       "      <td>...</td>\n",
       "      <td>...</td>\n",
       "      <td>...</td>\n",
       "      <td>...</td>\n",
       "    </tr>\n",
       "    <tr>\n",
       "      <th>9995</th>\n",
       "      <td>1999</td>\n",
       "      <td>1039</td>\n",
       "      <td>10</td>\n",
       "      <td>62.714423</td>\n",
       "      <td>34</td>\n",
       "      <td>8729</td>\n",
       "    </tr>\n",
       "    <tr>\n",
       "      <th>9996</th>\n",
       "      <td>2008</td>\n",
       "      <td>270</td>\n",
       "      <td>7</td>\n",
       "      <td>46.424750</td>\n",
       "      <td>20</td>\n",
       "      <td>1620</td>\n",
       "    </tr>\n",
       "    <tr>\n",
       "      <th>9997</th>\n",
       "      <td>2010</td>\n",
       "      <td>335</td>\n",
       "      <td>5</td>\n",
       "      <td>52.347775</td>\n",
       "      <td>24</td>\n",
       "      <td>1445</td>\n",
       "    </tr>\n",
       "    <tr>\n",
       "      <th>9998</th>\n",
       "      <td>2019</td>\n",
       "      <td>218</td>\n",
       "      <td>1</td>\n",
       "      <td>49.300942</td>\n",
       "      <td>46</td>\n",
       "      <td>209</td>\n",
       "    </tr>\n",
       "    <tr>\n",
       "      <th>9999</th>\n",
       "      <td>1998</td>\n",
       "      <td>1164</td>\n",
       "      <td>2</td>\n",
       "      <td>45.505179</td>\n",
       "      <td>42</td>\n",
       "      <td>1969</td>\n",
       "    </tr>\n",
       "  </tbody>\n",
       "</table>\n",
       "<p>10000 rows × 6 columns</p>\n",
       "</div>"
      ],
      "text/plain": [
       "      Year  LotArea  nFlor     BedAbv  county  Price\n",
       "0     2008     1405     10  51.211164      21  11818\n",
       "1     2015      114      3  52.584165       1    339\n",
       "2     2002     1230      9  50.226015      40   9291\n",
       "3     2006     1934      7  54.193594       1  11394\n",
       "4     2012     1125      3  47.380961       4   2878\n",
       "...    ...      ...    ...        ...     ...    ...\n",
       "9995  1999     1039     10  62.714423      34   8729\n",
       "9996  2008      270      7  46.424750      20   1620\n",
       "9997  2010      335      5  52.347775      24   1445\n",
       "9998  2019      218      1  49.300942      46    209\n",
       "9999  1998     1164      2  45.505179      42   1969\n",
       "\n",
       "[10000 rows x 6 columns]"
      ]
     },
     "execution_count": 11,
     "metadata": {},
     "output_type": "execute_result"
    }
   ],
   "source": [
    "import pandas as pd\n",
    "import numpy as np\n",
    "from sklearn.tree import DecisionTreeRegressor\n",
    "\n",
    "# Create some syntetic data\n",
    "size = 10000\n",
    "\n",
    "Year = np.random.randint(1998, high=2021, size=size, dtype=int)\n",
    "LotArea = np.random.randint(50, high=2001, size=size, dtype=int)\n",
    "nFlor = np.random.randint(1, high=11, size=size, dtype=int)\n",
    "BedAbv = np.random.normal(loc=50.0, scale=5.0, size=size)\n",
    "county = np.random.randint(1, high=51, size=size, dtype=int)\n",
    "\n",
    "# Define a function to obtain prices for later testing the model\n",
    "def fun_price(y,lot,flor,bed,county):    \n",
    "    return np.sin(y/2020)*lot*flor + bed - county/2\n",
    "\n",
    "def col_price(row):\n",
    "    y = row.Year\n",
    "    flor = row.nFlor\n",
    "    lot = row.LotArea\n",
    "    bed = row.BedAbv\n",
    "    county = row.county\n",
    "    return int(fun_price(y,lot,flor,bed,county))\n",
    "\n",
    "home_data = pd.DataFrame({'Year':Year, 'LotArea':LotArea, 'nFlor':nFlor, 'BedAbv':BedAbv, 'county':county})\n",
    "home_data['Price'] = home_data.apply(col_price,axis=1)\n",
    "home_data"
   ]
  },
  {
   "cell_type": "code",
   "execution_count": 12,
   "id": "afc35493",
   "metadata": {},
   "outputs": [
    {
     "name": "stderr",
     "output_type": "stream",
     "text": [
      "/home/xuxo/.local/lib/python3.10/site-packages/pandas/core/indexing.py:1732: SettingWithCopyWarning: \n",
      "A value is trying to be set on a copy of a slice from a DataFrame\n",
      "\n",
      "See the caveats in the documentation: https://pandas.pydata.org/pandas-docs/stable/user_guide/indexing.html#returning-a-view-versus-a-copy\n",
      "  self._setitem_single_block(indexer, value, name)\n"
     ]
    }
   ],
   "source": [
    "iy = [10,100,120,1400]\n",
    "inf = [123,234]\n",
    "for i in iy:\n",
    "    home_data.Year.iloc[i] = np.nan\n",
    "for i in inf:\n",
    "    home_data.nFlor.iloc[i] = np.nan"
   ]
  },
  {
   "cell_type": "code",
   "execution_count": 17,
   "id": "a1eae553",
   "metadata": {},
   "outputs": [
    {
     "name": "stdout",
     "output_type": "stream",
     "text": [
      "(10000, 6)\n",
      "Year       4\n",
      "LotArea    0\n",
      "nFlor      2\n",
      "BedAbv     0\n",
      "county     0\n",
      "Price      0\n",
      "dtype: int64\n"
     ]
    }
   ],
   "source": [
    "print(home_data.shape)\n",
    "print(home_data.isnull().sum())"
   ]
  },
  {
   "cell_type": "code",
   "execution_count": 22,
   "id": "fbea2047",
   "metadata": {},
   "outputs": [],
   "source": [
    "from sklearn.ensemble import RandomForestRegressor\n",
    "from sklearn.metrics import mean_absolute_error\n",
    "from sklearn.model_selection import train_test_split\n",
    "\n",
    "# Regression Tree Model Fit\n",
    "y = home_data.Price\n",
    "feature_columns = ['Year', 'LotArea', 'nFlor', 'BedAbv', 'county']\n",
    "X = home_data[feature_columns]\n",
    "# split data into training and validation data, for both features and target\n",
    "X_train, X_valid, y_train, y_valid = train_test_split(X, y, random_state = 1)\n",
    "\n",
    "# Function for comparing different approaches\n",
    "def score_dataset(X_train, X_valid, y_train, y_valid):\n",
    "    model = RandomForestRegressor(n_estimators=100, random_state=0)\n",
    "    model.fit(X_train, y_train)\n",
    "    preds = model.predict(X_valid)\n",
    "    return mean_absolute_error(y_valid, preds)"
   ]
  },
  {
   "cell_type": "code",
   "execution_count": 23,
   "id": "1489fa5e",
   "metadata": {},
   "outputs": [
    {
     "name": "stdout",
     "output_type": "stream",
     "text": [
      "MAE (Drop columns with missing values):\n",
      "2130.636296\n"
     ]
    }
   ],
   "source": [
    "# 1. Drop columns with missing values\n",
    "cols_with_missing = [col for col in X_train.columns if X_train[col].isnull().any()]\n",
    "\n",
    "# Fill in the lines below: drop columns in training and validation data\n",
    "reduced_X_train = X_train.drop(cols_with_missing, axis=1)\n",
    "reduced_X_valid = X_valid.drop(cols_with_missing, axis=1)\n",
    "\n",
    "print(\"MAE (Drop columns with missing values):\")\n",
    "print(score_dataset(reduced_X_train, reduced_X_valid, y_train, y_valid))"
   ]
  },
  {
   "cell_type": "code",
   "execution_count": 27,
   "id": "0a631e8a",
   "metadata": {},
   "outputs": [
    {
     "name": "stdout",
     "output_type": "stream",
     "text": [
      "MAE (Imputation):\n",
      "15.042824\n"
     ]
    }
   ],
   "source": [
    "# 2. Imputation\n",
    "\n",
    "from sklearn.impute import SimpleImputer\n",
    "\n",
    "# Fill in the lines below: imputation\n",
    "# Imputation: “mean”, “median”, “most_frequent”, “constant”\n",
    "# SimpleImputer(missing_values=np.nan, strategy='mean')\n",
    "my_imputer = SimpleImputer(strategy='most_frequent')\n",
    "imputed_X_train = pd.DataFrame(my_imputer.fit_transform(X_train))\n",
    "imputed_X_valid = pd.DataFrame(my_imputer.transform(X_valid))\n",
    "\n",
    "# Fill in the lines below: imputation removed column names; put them back\n",
    "imputed_X_train.columns = X_train.columns\n",
    "imputed_X_valid.columns = X_valid.columns\n",
    "\n",
    "print(\"MAE (Imputation):\")\n",
    "print(score_dataset(imputed_X_train, imputed_X_valid, y_train, y_valid))"
   ]
  },
  {
   "cell_type": "code",
   "execution_count": null,
   "id": "7f933887",
   "metadata": {},
   "outputs": [],
   "source": []
  }
 ],
 "metadata": {
  "kernelspec": {
   "display_name": "Python 3 (ipykernel)",
   "language": "python",
   "name": "python3"
  },
  "language_info": {
   "codemirror_mode": {
    "name": "ipython",
    "version": 3
   },
   "file_extension": ".py",
   "mimetype": "text/x-python",
   "name": "python",
   "nbconvert_exporter": "python",
   "pygments_lexer": "ipython3",
   "version": "3.10.4"
  }
 },
 "nbformat": 4,
 "nbformat_minor": 5
}
