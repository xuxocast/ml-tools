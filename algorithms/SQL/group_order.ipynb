{
 "cells": [
  {
   "cell_type": "code",
   "execution_count": 1,
   "id": "703a268d",
   "metadata": {},
   "outputs": [],
   "source": [
    "from google.cloud import bigquery\n",
    "\n",
    "# Create a \"Client\" object\n",
    "client = bigquery.Client()"
   ]
  },
  {
   "cell_type": "code",
   "execution_count": 2,
   "id": "1e4b47c2",
   "metadata": {},
   "outputs": [
    {
     "data": {
      "text/html": [
       "<div>\n",
       "<style scoped>\n",
       "    .dataframe tbody tr th:only-of-type {\n",
       "        vertical-align: middle;\n",
       "    }\n",
       "\n",
       "    .dataframe tbody tr th {\n",
       "        vertical-align: top;\n",
       "    }\n",
       "\n",
       "    .dataframe thead th {\n",
       "        text-align: right;\n",
       "    }\n",
       "</style>\n",
       "<table border=\"1\" class=\"dataframe\">\n",
       "  <thead>\n",
       "    <tr style=\"text-align: right;\">\n",
       "      <th></th>\n",
       "      <th>country_name</th>\n",
       "      <th>country_code</th>\n",
       "      <th>indicator_name</th>\n",
       "      <th>indicator_code</th>\n",
       "      <th>value</th>\n",
       "      <th>year</th>\n",
       "    </tr>\n",
       "  </thead>\n",
       "  <tbody>\n",
       "    <tr>\n",
       "      <th>0</th>\n",
       "      <td>Suriname</td>\n",
       "      <td>SUR</td>\n",
       "      <td>Population, ages 0-14 (% of total)</td>\n",
       "      <td>SP.POP.0014.TO.ZS</td>\n",
       "      <td>26.690820</td>\n",
       "      <td>2016</td>\n",
       "    </tr>\n",
       "    <tr>\n",
       "      <th>1</th>\n",
       "      <td>Tajikistan</td>\n",
       "      <td>TJK</td>\n",
       "      <td>Gross enrolment ratio, pre-primary, male (%)</td>\n",
       "      <td>SE.PRE.ENRR.MA</td>\n",
       "      <td>11.755600</td>\n",
       "      <td>2016</td>\n",
       "    </tr>\n",
       "    <tr>\n",
       "      <th>2</th>\n",
       "      <td>Tajikistan</td>\n",
       "      <td>TJK</td>\n",
       "      <td>Percentage of teachers in pre-primary educatio...</td>\n",
       "      <td>UIS.TRTP.0</td>\n",
       "      <td>100.000000</td>\n",
       "      <td>2016</td>\n",
       "    </tr>\n",
       "    <tr>\n",
       "      <th>3</th>\n",
       "      <td>Tajikistan</td>\n",
       "      <td>TJK</td>\n",
       "      <td>Population of the official age for pre-primary...</td>\n",
       "      <td>SP.PRE.TOTL.FE.IN</td>\n",
       "      <td>397896.000000</td>\n",
       "      <td>2016</td>\n",
       "    </tr>\n",
       "    <tr>\n",
       "      <th>4</th>\n",
       "      <td>Iraq</td>\n",
       "      <td>IRQ</td>\n",
       "      <td>Population growth (annual %)</td>\n",
       "      <td>SP.POP.GROW</td>\n",
       "      <td>2.965164</td>\n",
       "      <td>2016</td>\n",
       "    </tr>\n",
       "  </tbody>\n",
       "</table>\n",
       "</div>"
      ],
      "text/plain": [
       "  country_name country_code  \\\n",
       "0     Suriname          SUR   \n",
       "1   Tajikistan          TJK   \n",
       "2   Tajikistan          TJK   \n",
       "3   Tajikistan          TJK   \n",
       "4         Iraq          IRQ   \n",
       "\n",
       "                                      indicator_name     indicator_code  \\\n",
       "0                 Population, ages 0-14 (% of total)  SP.POP.0014.TO.ZS   \n",
       "1       Gross enrolment ratio, pre-primary, male (%)     SE.PRE.ENRR.MA   \n",
       "2  Percentage of teachers in pre-primary educatio...         UIS.TRTP.0   \n",
       "3  Population of the official age for pre-primary...  SP.PRE.TOTL.FE.IN   \n",
       "4                       Population growth (annual %)        SP.POP.GROW   \n",
       "\n",
       "           value  year  \n",
       "0      26.690820  2016  \n",
       "1      11.755600  2016  \n",
       "2     100.000000  2016  \n",
       "3  397896.000000  2016  \n",
       "4       2.965164  2016  "
      ]
     },
     "execution_count": 2,
     "metadata": {},
     "output_type": "execute_result"
    }
   ],
   "source": [
    "# Construct a reference to the \"world_bank_intl_education\" dataset\n",
    "dataset_ref = client.dataset(\"world_bank_intl_education\", project=\"bigquery-public-data\")\n",
    "\n",
    "# API request - fetch the dataset\n",
    "dataset = client.get_dataset(dataset_ref)\n",
    "\n",
    "# Construct a reference to the \"international_education\" table\n",
    "table_ref = dataset_ref.table(\"international_education\")\n",
    "\n",
    "# API request - fetch the table\n",
    "table = client.get_table(table_ref)\n",
    "\n",
    "# Preview the first five lines of the \"international_education\" table\n",
    "client.list_rows(table, max_results=5).to_dataframe()"
   ]
  },
  {
   "cell_type": "code",
   "execution_count": 4,
   "id": "1d2ee7ae",
   "metadata": {},
   "outputs": [
    {
     "name": "stdout",
     "output_type": "stream",
     "text": [
      "                 country_name  avg_ed_spending_pct\n",
      "0                        Cuba            12.837270\n",
      "1       Micronesia, Fed. Sts.            12.467750\n",
      "2             Solomon Islands            10.001080\n",
      "3                     Moldova             8.372153\n",
      "4                     Namibia             8.349610\n",
      "..                        ...                  ...\n",
      "152                  Cambodia             1.706404\n",
      "153        West Bank and Gaza             1.503760\n",
      "154               South Sudan             1.409726\n",
      "155                    Monaco             1.409606\n",
      "156  Central African Republic             1.214010\n",
      "\n",
      "[157 rows x 2 columns]\n"
     ]
    }
   ],
   "source": [
    "# Which countries spend the largest fraction of GDP on education?\n",
    "country_spend_pct_query = \"\"\"\n",
    "                          SELECT country_name, avg(value) as avg_ed_spending_pct\n",
    "                          FROM `bigquery-public-data.world_bank_intl_education.international_education`\n",
    "                          WHERE indicator_code = 'SE.XPD.TOTL.GD.ZS'AND year BETWEEN 2010 AND 2017\n",
    "                          GROUP BY country_name\n",
    "                          ORDER BY avg_ed_spending_pct DESC\n",
    "                          \"\"\"\n",
    "\n",
    "# Set up the query (cancel the query if it would use too much of \n",
    "# your quota, with the limit set to 1 GB)\n",
    "safe_config = bigquery.QueryJobConfig(maximum_bytes_billed=10**10)\n",
    "country_spend_pct_query_job = client.query(country_spend_pct_query, job_config=safe_config)\n",
    "\n",
    "# API request - run the query, and return a pandas DataFrame\n",
    "country_spending_results = country_spend_pct_query_job.to_dataframe()\n",
    "\n",
    "# View top few rows of results\n",
    "print(country_spending_results)"
   ]
  },
  {
   "cell_type": "code",
   "execution_count": 9,
   "id": "5974a7e2",
   "metadata": {},
   "outputs": [],
   "source": [
    "countries = country_spending_results.country_name.to_list()\n",
    "avg = country_spending_results.avg_ed_spending_pct.to_list()\n",
    "dir_countries = dict(zip(countries,avg))"
   ]
  },
  {
   "cell_type": "code",
   "execution_count": 18,
   "id": "6633ff95",
   "metadata": {},
   "outputs": [
    {
     "name": "stdout",
     "output_type": "stream",
     "text": [
      "52  ,  5.2300701141357395\n"
     ]
    }
   ],
   "source": [
    "print(countries.index('United States'),' , ',dir_countries['United States'])"
   ]
  },
  {
   "cell_type": "code",
   "execution_count": null,
   "id": "3b284b6c",
   "metadata": {},
   "outputs": [],
   "source": []
  },
  {
   "cell_type": "code",
   "execution_count": null,
   "id": "f5d7d646",
   "metadata": {},
   "outputs": [],
   "source": []
  },
  {
   "cell_type": "code",
   "execution_count": null,
   "id": "3531bf82",
   "metadata": {},
   "outputs": [],
   "source": []
  },
  {
   "cell_type": "code",
   "execution_count": 19,
   "id": "bfdb481a",
   "metadata": {},
   "outputs": [
    {
     "name": "stdout",
     "output_type": "stream",
     "text": [
      "      indicator_code                      indicator_name  num_rows\n",
      "0        SP.POP.GROW        Population growth (annual %)       232\n",
      "1        SP.POP.TOTL                   Population, total       232\n",
      "2     IT.NET.USER.P2     Internet users (per 100 people)       223\n",
      "3  SP.POP.0014.TO.ZS  Population, ages 0-14 (% of total)       213\n",
      "4  SP.POP.1564.MA.IN        Population, ages 15-64, male       213\n"
     ]
    }
   ],
   "source": [
    "code_count_query = \"\"\"\n",
    "                   SELECT indicator_code, indicator_name, COUNT(1) AS num_rows\n",
    "                   FROM `bigquery-public-data.world_bank_intl_education.international_education`\n",
    "                   WHERE year = 2016\n",
    "                   GROUP BY indicator_name, indicator_code\n",
    "                   HAVING COUNT(1) >= 175\n",
    "                   ORDER BY COUNT(1) DESC\n",
    "                   \"\"\"\n",
    "\n",
    "# Set up the query\n",
    "safe_config = bigquery.QueryJobConfig(maximum_bytes_billed=10**10)\n",
    "code_count_query_job = client.query(code_count_query, job_config=safe_config)\n",
    "\n",
    "# API request - run the query, and return a pandas DataFrame\n",
    "code_count_results = code_count_query_job.to_dataframe()\n",
    "\n",
    "# View top few rows of results\n",
    "print(code_count_results.head())"
   ]
  },
  {
   "cell_type": "code",
   "execution_count": null,
   "id": "c83aa7e7",
   "metadata": {},
   "outputs": [],
   "source": []
  }
 ],
 "metadata": {
  "kernelspec": {
   "display_name": "Python 3 (ipykernel)",
   "language": "python",
   "name": "python3"
  },
  "language_info": {
   "codemirror_mode": {
    "name": "ipython",
    "version": 3
   },
   "file_extension": ".py",
   "mimetype": "text/x-python",
   "name": "python",
   "nbconvert_exporter": "python",
   "pygments_lexer": "ipython3",
   "version": "3.9.7"
  }
 },
 "nbformat": 4,
 "nbformat_minor": 5
}
