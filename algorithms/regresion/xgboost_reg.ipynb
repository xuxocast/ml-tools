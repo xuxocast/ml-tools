{
 "cells": [
  {
   "cell_type": "code",
   "execution_count": 7,
   "id": "88e1f167",
   "metadata": {},
   "outputs": [],
   "source": [
    "import pandas as pd\n",
    "import numpy as np\n",
    "from sklearn.tree import DecisionTreeRegressor\n",
    "\n",
    "# Create some syntetic data\n",
    "np.random.seed(0)\n",
    "size = 10000\n",
    "\n",
    "Year = np.random.randint(1998, high=2021, size=size, dtype=int)\n",
    "LotArea = np.random.randint(50, high=2001, size=size, dtype=int)\n",
    "nFlor = np.random.randint(1, high=11, size=size, dtype=int)\n",
    "BedAbv = np.random.normal(loc=50.0, scale=5.0, size=size)\n",
    "county = np.random.randint(1, high=51, size=size, dtype=int)\n",
    "\n",
    "# Define a function to obtain prices for later testing the model\n",
    "def fun_price(y,lot,flor,bed,county):    \n",
    "    return np.sin(y/2020)*lot*flor + bed - county/2\n",
    "\n",
    "def col_price(row):\n",
    "    y = row.Year\n",
    "    flor = row.nFlor\n",
    "    lot = row.LotArea\n",
    "    bed = row.BedAbv\n",
    "    county = row.county\n",
    "    return int(fun_price(y,lot,flor,bed,county))\n",
    "\n",
    "home_data = pd.DataFrame({'Year':Year, 'LotArea':LotArea, 'nFlor':nFlor, 'BedAbv':BedAbv, 'county':county})\n",
    "home_data['Price'] = home_data.apply(col_price,axis=1)"
   ]
  },
  {
   "cell_type": "code",
   "execution_count": 8,
   "id": "da6812fa",
   "metadata": {},
   "outputs": [
    {
     "name": "stdout",
     "output_type": "stream",
     "text": [
      "First in-sample predictions: [7829.5234375, 2098.125244140625, 2331.829833984375, 7582.2314453125, 4727.759765625, 11890.0712890625, 3959.4775390625, 488.1414794921875, 8525.353515625, 7369.48681640625]\n",
      "Actual target values for those homes: [7842, 2044, 2324, 7524, 4746, 11889, 3914, 498, 8454, 7393]\n",
      "\n",
      "Absolute Mean Error: 17.485681213378907\n",
      "\n",
      "Absolute Mean Error: 0.006770682446694459\n"
     ]
    }
   ],
   "source": [
    "from xgboost import XGBRegressor\n",
    "from sklearn.model_selection import train_test_split\n",
    "\n",
    "# Regression Tree Model Fit\n",
    "y = home_data.Price\n",
    "feature_columns = ['Year', 'LotArea', 'nFlor', 'BedAbv', 'county']\n",
    "X = home_data[feature_columns]\n",
    "\n",
    "train_X, val_X, train_y, val_y = train_test_split(X, y, random_state = 1)\n",
    "\n",
    "# Define the model\n",
    "xgb_model = XGBRegressor(n_estimators=1000, learning_rate=0.05, random_state=1)\n",
    "# Fit the model\n",
    "xgb_model.fit(train_X, train_y)\n",
    "\n",
    "# Predictions\n",
    "predictions = xgb_model.predict(val_X).tolist()\n",
    "values = val_y.tolist()\n",
    "\n",
    "# -------------------------------------------------------------------------\n",
    "from sklearn.metrics import mean_absolute_error\n",
    "from sklearn.metrics import mean_absolute_percentage_error\n",
    "\n",
    "# Error\n",
    "err = mean_absolute_error(predictions,values)\n",
    "errp =  mean_absolute_percentage_error(predictions,values)\n",
    "\n",
    "print(\"First in-sample predictions:\", predictions[:10])\n",
    "print(\"Actual target values for those homes:\", values[:10])\n",
    "print()\n",
    "print(f'Absolute Mean Error:', err)\n",
    "print()\n",
    "print(f'Absolute Mean Error:', errp)"
   ]
  },
  {
   "cell_type": "code",
   "execution_count": null,
   "id": "ffd96dab",
   "metadata": {},
   "outputs": [],
   "source": []
  }
 ],
 "metadata": {
  "kernelspec": {
   "display_name": "Python 3 (ipykernel)",
   "language": "python",
   "name": "python3"
  },
  "language_info": {
   "codemirror_mode": {
    "name": "ipython",
    "version": 3
   },
   "file_extension": ".py",
   "mimetype": "text/x-python",
   "name": "python",
   "nbconvert_exporter": "python",
   "pygments_lexer": "ipython3",
   "version": "3.9.7"
  }
 },
 "nbformat": 4,
 "nbformat_minor": 5
}
