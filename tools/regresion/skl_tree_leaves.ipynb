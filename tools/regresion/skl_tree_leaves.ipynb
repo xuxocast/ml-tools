{
 "cells": [
  {
   "cell_type": "code",
   "execution_count": 9,
   "id": "ac3497b5",
   "metadata": {},
   "outputs": [],
   "source": [
    "from sklearn.metrics import mean_absolute_error\n",
    "from sklearn.tree import DecisionTreeRegressor\n",
    "import numpy as np\n",
    "import pandas as pd\n",
    "\n",
    "def get_mae(max_leaf_nodes, train_X, val_X, train_y, val_y):\n",
    "    model = DecisionTreeRegressor(max_leaf_nodes=max_leaf_nodes, random_state=0)\n",
    "    model.fit(train_X, train_y)\n",
    "    preds_val = model.predict(val_X)\n",
    "    mae = mean_absolute_error(val_y, preds_val)\n",
    "    return(mae)"
   ]
  },
  {
   "cell_type": "code",
   "execution_count": 10,
   "id": "8a3dc942",
   "metadata": {},
   "outputs": [],
   "source": [
    "# Create some syntetic data\n",
    "size = 10000\n",
    "np.random.seed(0)\n",
    "\n",
    "Year = np.random.randint(1998, high=2021, size=size, dtype=int)\n",
    "LotArea = np.random.randint(50, high=2001, size=size, dtype=int)\n",
    "nFlor = np.random.randint(1, high=11, size=size, dtype=int)\n",
    "BedAbv = np.random.normal(loc=50.0, scale=5.0, size=size)\n",
    "county = np.random.randint(1, high=51, size=size, dtype=int)\n",
    "\n",
    "# Define a function to obtain prices for later testing the model\n",
    "def fun_price(y,lot,flor,bed,county):    \n",
    "    return np.sin(y/2020)*lot*flor + bed - county/2\n",
    "\n",
    "def col_price(row):\n",
    "    y = row.Year\n",
    "    flor = row.nFlor\n",
    "    lot = row.LotArea\n",
    "    bed = row.BedAbv\n",
    "    county = row.county\n",
    "    return int(fun_price(y,lot,flor,bed,county))\n",
    "\n",
    "home_data = pd.DataFrame({'Year':Year, 'LotArea':LotArea, 'nFlor':nFlor, 'BedAbv':BedAbv, 'county':county})\n",
    "home_data['Price'] = home_data.apply(col_price,axis=1)"
   ]
  },
  {
   "cell_type": "code",
   "execution_count": 11,
   "id": "e1e32e71",
   "metadata": {},
   "outputs": [
    {
     "name": "stdout",
     "output_type": "stream",
     "text": [
      "Max leaf nodes: 10  \t\t Mean Absolute Error:  923\n",
      "Max leaf nodes: 100  \t\t Mean Absolute Error:  192\n",
      "Max leaf nodes: 1000  \t\t Mean Absolute Error:  26\n",
      "Max leaf nodes: 5000  \t\t Mean Absolute Error:  20\n",
      "Max leaf nodes: 10000  \t\t Mean Absolute Error:  20\n"
     ]
    }
   ],
   "source": [
    "# split data into training and validation data, for both features and target\n",
    "from sklearn.model_selection import train_test_split\n",
    "\n",
    "y = home_data.Price\n",
    "feature_columns = ['Year', 'LotArea', 'nFlor', 'BedAbv', 'county']\n",
    "X = home_data[feature_columns]\n",
    "\n",
    "train_X, val_X, train_y, val_y = train_test_split(X, y, random_state = 1)\n",
    "\n",
    "# compare MAE with differing values of max_leaf_nodes\n",
    "for max_leaf_nodes in [10, 100, 1000, 5000,10000]:\n",
    "    my_mae = get_mae(max_leaf_nodes, train_X, val_X, train_y, val_y)\n",
    "    print(\"Max leaf nodes: %d  \\t\\t Mean Absolute Error:  %d\" %(max_leaf_nodes, my_mae))"
   ]
  },
  {
   "cell_type": "code",
   "execution_count": null,
   "id": "85cbe086",
   "metadata": {},
   "outputs": [],
   "source": []
  }
 ],
 "metadata": {
  "kernelspec": {
   "display_name": "Python 3 (ipykernel)",
   "language": "python",
   "name": "python3"
  },
  "language_info": {
   "codemirror_mode": {
    "name": "ipython",
    "version": 3
   },
   "file_extension": ".py",
   "mimetype": "text/x-python",
   "name": "python",
   "nbconvert_exporter": "python",
   "pygments_lexer": "ipython3",
   "version": "3.9.7"
  }
 },
 "nbformat": 4,
 "nbformat_minor": 5
}
