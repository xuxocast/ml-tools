{
 "cells": [
  {
   "cell_type": "code",
   "execution_count": 1,
   "id": "0ee1dffb",
   "metadata": {},
   "outputs": [],
   "source": [
    "from sklearn.metrics import mean_absolute_error\n",
    "from sklearn.ensemble import RandomForestRegressor\n",
    "import numpy as np\n",
    "import pandas as pd\n",
    "\n",
    "# Random Forest Creates a random number of Trees with random number of leaves. Reports the best value"
   ]
  },
  {
   "cell_type": "code",
   "execution_count": 2,
   "id": "2cf2bd6b",
   "metadata": {},
   "outputs": [],
   "source": [
    "# Create some syntetic data\n",
    "np.random.seed(0)\n",
    "size = 10000\n",
    "\n",
    "Year = np.random.randint(1998, high=2021, size=size, dtype=int)\n",
    "LotArea = np.random.randint(50, high=2001, size=size, dtype=int)\n",
    "nFlor = np.random.randint(1, high=11, size=size, dtype=int)\n",
    "BedAbv = np.random.normal(loc=50.0, scale=5.0, size=size)\n",
    "county = np.random.randint(1, high=51, size=size, dtype=int)\n",
    "\n",
    "# Define a function to obtain prices for later testing the model\n",
    "def fun_price(y,lot,flor,bed,county):    \n",
    "    return np.sin(y/2020)*lot*flor + bed - county/2\n",
    "\n",
    "def col_price(row):\n",
    "    y = row.Year\n",
    "    flor = row.nFlor\n",
    "    lot = row.LotArea\n",
    "    bed = row.BedAbv\n",
    "    county = row.county\n",
    "    return int(fun_price(y,lot,flor,bed,county))\n",
    "\n",
    "home_data = pd.DataFrame({'Year':Year, 'LotArea':LotArea, 'nFlor':nFlor, 'BedAbv':BedAbv, 'county':county})\n",
    "home_data['Price'] = home_data.apply(col_price,axis=1)"
   ]
  },
  {
   "cell_type": "code",
   "execution_count": 3,
   "id": "22abd2ea",
   "metadata": {},
   "outputs": [
    {
     "name": "stdout",
     "output_type": "stream",
     "text": [
      "Mean Absolute Error: 14.229179999999992\n"
     ]
    }
   ],
   "source": [
    "# split data into training and validation data, for both features and target\n",
    "from sklearn.model_selection import train_test_split\n",
    "\n",
    "y = home_data.Price\n",
    "feature_columns = ['Year', 'LotArea', 'nFlor', 'BedAbv', 'county']\n",
    "X = home_data[feature_columns]\n",
    "\n",
    "train_X, val_X, train_y, val_y = train_test_split(X, y, random_state = 1)\n",
    "\n",
    "# Fit Random Forest Model\n",
    "forest_model = RandomForestRegressor(random_state=1)\n",
    "forest_model.fit(train_X, train_y)\n",
    "melb_preds = forest_model.predict(val_X)\n",
    "print(f'Mean Absolute Error: {mean_absolute_error(val_y, melb_preds)}')"
   ]
  },
  {
   "cell_type": "code",
   "execution_count": 4,
   "id": "0e635876",
   "metadata": {},
   "outputs": [
    {
     "name": "stdout",
     "output_type": "stream",
     "text": [
      "Model 1 MAE: 14\n",
      "Model 2 MAE: 14\n",
      "Model 3 MAE: 14\n",
      "Model 4 MAE: 24\n",
      "Model 5 MAE: 75\n"
     ]
    }
   ],
   "source": [
    "# Define several the models\n",
    "model_1 = RandomForestRegressor(n_estimators=50, random_state=0)\n",
    "model_2 = RandomForestRegressor(n_estimators=100, random_state=0)\n",
    "model_3 = RandomForestRegressor(n_estimators=100, criterion='absolute_error', random_state=0)\n",
    "model_4 = RandomForestRegressor(n_estimators=200, min_samples_split=20, random_state=0)\n",
    "model_5 = RandomForestRegressor(n_estimators=100, max_depth=7, random_state=0)\n",
    "\n",
    "models = [model_1, model_2, model_3, model_4, model_5]\n",
    "\n",
    "# Function for comparing different models\n",
    "def score_model(model, X_t=train_X, X_v=val_X, y_t=train_y, y_v=val_y):\n",
    "    model.fit(X_t, y_t)\n",
    "    preds = model.predict(X_v)\n",
    "    return mean_absolute_error(y_v, preds)\n",
    "\n",
    "for i in range(0, len(models)):\n",
    "    mae = score_model(models[i])\n",
    "    print(\"Model %d MAE: %d\" % (i+1, mae))"
   ]
  },
  {
   "cell_type": "code",
   "execution_count": null,
   "id": "8af3d4d2",
   "metadata": {},
   "outputs": [],
   "source": []
  }
 ],
 "metadata": {
  "kernelspec": {
   "display_name": "Python 3 (ipykernel)",
   "language": "python",
   "name": "python3"
  },
  "language_info": {
   "codemirror_mode": {
    "name": "ipython",
    "version": 3
   },
   "file_extension": ".py",
   "mimetype": "text/x-python",
   "name": "python",
   "nbconvert_exporter": "python",
   "pygments_lexer": "ipython3",
   "version": "3.9.7"
  }
 },
 "nbformat": 4,
 "nbformat_minor": 5
}
